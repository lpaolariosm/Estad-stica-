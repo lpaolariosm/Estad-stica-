{
  "nbformat": 4,
  "nbformat_minor": 0,
  "metadata": {
    "colab": {
      "provenance": [],
      "authorship_tag": "ABX9TyNtQYPV0KkSXr4GMCdE0ytg",
      "include_colab_link": true
    },
    "kernelspec": {
      "name": "python3",
      "display_name": "Python 3"
    },
    "language_info": {
      "name": "python"
    }
  },
  "cells": [
    {
      "cell_type": "markdown",
      "metadata": {
        "id": "view-in-github",
        "colab_type": "text"
      },
      "source": [
        "<a href=\"https://colab.research.google.com/github/lpaolariosm/Estad-stica-/blob/main/Random_Jumping.ipynb\" target=\"_parent\"><img src=\"https://colab.research.google.com/assets/colab-badge.svg\" alt=\"Open In Colab\"/></a>"
      ]
    },
    {
      "cell_type": "code",
      "execution_count": 1,
      "metadata": {
        "colab": {
          "base_uri": "https://localhost:8080/"
        },
        "id": "pmLozeODA4Qx",
        "outputId": "4215b4da-64e6-4a5b-b59e-46fff32ea3c8"
      },
      "outputs": [
        {
          "output_type": "stream",
          "name": "stdout",
          "text": [
            "Mínimo encontrado:\n",
            "x1 = -1.0027928521819613\n",
            "x2 = 1.5034420389809855\n",
            "Valor mínimo de f = -1.2499917785331898\n",
            "Evaluaciones utilizadas: 10000\n"
          ]
        }
      ],
      "source": [
        "import sympy as sp\n",
        "import random\n",
        "\n",
        "# Definir variables simbólicas\n",
        "x1, x2 = sp.symbols('x1 x2')\n",
        "f = x1 - x2 + 2*x1**2 + 2*x1*x2 + x2**2\n",
        "\n",
        "# Convertir función simbólica a función numérica\n",
        "f_numeric = sp.lambdify((x1, x2), f, 'numpy')\n",
        "\n",
        "# Parámetros del algoritmo\n",
        "lower_bound = -10\n",
        "upper_bound = 10\n",
        "max_evaluations = 10000\n",
        "jump_range = 1.0  # tamaño del salto aleatorio\n",
        "\n",
        "# Inicializar con un punto aleatorio\n",
        "current_x1 = random.uniform(lower_bound, upper_bound)\n",
        "current_x2 = random.uniform(lower_bound, upper_bound)\n",
        "current_value = f_numeric(current_x1, current_x2)\n",
        "\n",
        "best_x1 = current_x1\n",
        "best_x2 = current_x2\n",
        "best_value = current_value\n",
        "\n",
        "evaluations = 1\n",
        "\n",
        "# Random Jumping Loop\n",
        "while evaluations < max_evaluations:\n",
        "    # Hacer un salto aleatorio desde el punto actual\n",
        "    new_x1 = current_x1 + random.uniform(-jump_range, jump_range)\n",
        "    new_x2 = current_x2 + random.uniform(-jump_range, jump_range)\n",
        "\n",
        "    # Verificar si el nuevo punto está dentro de los límites\n",
        "    if lower_bound <= new_x1 <= upper_bound and lower_bound <= new_x2 <= upper_bound:\n",
        "        new_value = f_numeric(new_x1, new_x2)\n",
        "        evaluations += 1\n",
        "\n",
        "        # Aceptar el nuevo punto si es mejor\n",
        "        if new_value < best_value:\n",
        "            best_x1, best_x2 = new_x1, new_x2\n",
        "            best_value = new_value\n",
        "            current_x1, current_x2 = new_x1, new_x2\n",
        "        else:\n",
        "            # Rechazar salto: quedarse en el punto actual\n",
        "            pass\n",
        "\n",
        "# Resultados finales\n",
        "print(\"Mínimo encontrado:\")\n",
        "print(f\"x1 = {best_x1}\")\n",
        "print(f\"x2 = {best_x2}\")\n",
        "print(f\"Valor mínimo de f = {best_value}\")\n",
        "print(f\"Evaluaciones utilizadas: {evaluations}\")\n"
      ]
    }
  ]
}