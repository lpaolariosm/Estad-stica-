{
  "nbformat": 4,
  "nbformat_minor": 0,
  "metadata": {
    "colab": {
      "provenance": [],
      "include_colab_link": true
    },
    "kernelspec": {
      "name": "python3",
      "display_name": "Python 3"
    },
    "language_info": {
      "name": "python"
    }
  },
  "cells": [
    {
      "cell_type": "markdown",
      "metadata": {
        "id": "view-in-github",
        "colab_type": "text"
      },
      "source": [
        "<a href=\"https://colab.research.google.com/github/lpaolariosm/Estad-stica-/blob/main/Chi-cuadrada.ipynb\" target=\"_parent\"><img src=\"https://colab.research.google.com/assets/colab-badge.svg\" alt=\"Open In Colab\"/></a>"
      ]
    },
    {
      "cell_type": "markdown",
      "source": [
        "# Prueba chi cuadrada\n",
        "\n"
      ],
      "metadata": {
        "id": "VA7qtPdoGMxL"
      }
    },
    {
      "cell_type": "markdown",
      "source": [
        "Importamos las librerias necesarias"
      ],
      "metadata": {
        "id": "H-I4jsTVGTaR"
      }
    },
    {
      "cell_type": "code",
      "source": [
        "import numpy as np\n",
        "from scipy.stats import chi2\n",
        "from tabulate import tabulate"
      ],
      "metadata": {
        "id": "gJ3SibhKGWmQ"
      },
      "execution_count": 1,
      "outputs": []
    },
    {
      "cell_type": "markdown",
      "source": [
        "Datos no normalizados"
      ],
      "metadata": {
        "id": "ZmO4JkihGcGS"
      }
    },
    {
      "cell_type": "code",
      "source": [
        "datos = [\n",
        "     87.59 , 21.44 , 63.25 , 38.02 , 35.23 , 28.12 , 56.67 , 52.19 , 31.18 , 30.26,\n",
        "     50.40 , 85.52 , 41.51 , 63.81 , 66.29 , 48.86 , 60.52 , 75.78 , 35.54 , 40.97,\n",
        "     90.16 , 59.53 , 60.73 , 58.04 , 74.23 , 74.86 , 75.99 , 43.30 , 48.32 , 81.31,\n",
        "     72.15 , 106.92 , 53.64 , 68.85 , 81.43 , 68.56 , 44.38 , 17.86 , 39.51 , 87.89,\n",
        "     51.77 , 45.64 , 50.61 , 60.74 , 71.22 , 85.95 , 26.26 , 84.91 , 43.72 , 85.65,\n",
        "     56.33 , 21.26 , 59.15 , 64.95 , 12.74 , 40.52 , 57.38 , 87.69 , 27.24 , 34.56,\n",
        "     68.00 , 26.42 , 49.07 , 15.40 , 64.35 , 81.31 , 65.23 , 23.73 , 104.31 , 52.50,\n",
        "     59.11 , 68.21, 59.64 ,68.18 , 70.72 , 94.23 , 63.26 , 32.66 , 18.60 , 9.82,\n",
        "     63.75 , 57.46 , 79.87, 36.07 , 27.36 , 109.78 , 93.61 , 54.94 , 34.02 , 76.65,\n",
        "     53.35 , 39.34 , 58.72 , 64.61 , 43.19 , 95.39 , 81.33 , 33.66 , 56.42 , 26.08,\n",
        "     37.27 , 32.30 , 0.01 , 20.62 , 8.20 , 46.66 , 15.53 , 10.05 , 6.08 , 9.36,\n",
        "     41.50 , 58.33 , 45.30 , 15.78 , 2.25 , 8.73 , 14.64 , 30.26 , 22.05 , 76.99,\n",
        "     2.71 , 6.93 , 0.17 , 10.46 , 6.51 , 16.74 , 10.71 , 22.20 , 27.08 , 23.39 ,\n",
        "     18.19 , 71.49 , 33.03 , 17.67 , 19.12 , 42.07 , 21.98 , 42.14 , 11.25 , 26.27,\n",
        "     49.44 , 9.40 , 36.93 , 11.84 , 17.15 , 24.58 , 79.60 , 9.72 , 5.06 , 47.78,\n",
        "     42.37 , 2.46 , 44.01 , 17.31 , 36.23 , 1.57 , 78.23 , 16.55 , 60.52 , 7.38 ,\n",
        "     5.92 , 17.37 , 22.28 , 27.75 , 31.90 , 50.81 , 16.98 , 56.45 , 14.83 , 2.46,\n",
        "     19.08 , 16.43 , 5.47 , 40.80 , 40.73 , 3.48 , 17.84 , 73.65 , 13.05 , 0.23,\n",
        "     46.12 , 41.63 , 17.01 , 51.62 , 31.86 , 9.25 , 7.15 , 1.41 , 20.19 , 21.05,\n",
        "     38.13 , 0.46 , 67.42 , 34.42 , 9.24 , 32.54 , 24.06 , 1.45 , 62.89 , 37.92\n",
        "]"
      ],
      "metadata": {
        "id": "cuOF5t7SGajZ"
      },
      "execution_count": 2,
      "outputs": []
    },
    {
      "cell_type": "markdown",
      "source": [
        "Normalizar datos al rango [0, 1)"
      ],
      "metadata": {
        "id": "saz1oHgYHkPe"
      }
    },
    {
      "cell_type": "code",
      "source": [
        "min_dato = min(datos)\n",
        "max_dato = max(datos)\n",
        "datos_normalizados = [(x - min_dato) / (max_dato - min_dato) for x in datos]"
      ],
      "metadata": {
        "id": "bKp5D32nHzRm"
      },
      "execution_count": 3,
      "outputs": []
    },
    {
      "cell_type": "markdown",
      "source": [
        "Cálculo de media y desviación estándar muestral"
      ],
      "metadata": {
        "id": "vxxybD7NH0E3"
      }
    },
    {
      "cell_type": "code",
      "source": [
        "media = np.mean(datos_normalizados)\n",
        "desviacion = np.std(datos_normalizados, ddof=1)"
      ],
      "metadata": {
        "id": "-P5X4BOuH5vh"
      },
      "execution_count": 17,
      "outputs": []
    },
    {
      "cell_type": "markdown",
      "source": [
        "Parámetros para chi-cuadrado"
      ],
      "metadata": {
        "id": "QU090ZVjKxeb"
      }
    },
    {
      "cell_type": "code",
      "source": [
        "num_datos = len(datos_normalizados)\n",
        "num_clases = 10\n",
        "amplitud_clase = 1 / num_clases\n",
        "grados_libertad = num_clases - 1\n",
        "alpha = 0.05"
      ],
      "metadata": {
        "id": "9kpJt47SK2Yu"
      },
      "execution_count": 21,
      "outputs": []
    },
    {
      "cell_type": "markdown",
      "source": [
        "Frecuencia esperada"
      ],
      "metadata": {
        "id": "2wYVsKomK6xu"
      }
    },
    {
      "cell_type": "code",
      "source": [
        "frecuencia_esperada = [num_datos / num_clases] * num_clases\n",
        "frecuencia_observada = [0] * num_clases\n",
        "estadistico_chi = [0] * num_clases"
      ],
      "metadata": {
        "id": "XsSCIS6IK6a0"
      },
      "execution_count": 22,
      "outputs": []
    },
    {
      "cell_type": "markdown",
      "source": [
        "Definir intervalos"
      ],
      "metadata": {
        "id": "nj01qI1NLCSC"
      }
    },
    {
      "cell_type": "code",
      "source": [
        "tabla_intervalos = [(i * amplitud_clase, (i + 1) * amplitud_clase) for i in range(num_clases)]"
      ],
      "metadata": {
        "id": "huqimJDTLG_h"
      },
      "execution_count": 23,
      "outputs": []
    },
    {
      "cell_type": "markdown",
      "source": [
        "Contar frecuencia observada"
      ],
      "metadata": {
        "id": "xui21Oy-LMpN"
      }
    },
    {
      "cell_type": "code",
      "source": [
        "for valor in datos_normalizados:\n",
        "    for idx, (lim_inf, lim_sup) in enumerate(tabla_intervalos):\n",
        "        if lim_inf <= valor < lim_sup or (idx == num_clases - 1 and valor == lim_sup):  # incluir extremo superior en el último\n",
        "            frecuencia_observada[idx] += 1\n",
        "            break"
      ],
      "metadata": {
        "id": "5yLvtfUMLTHb"
      },
      "execution_count": 24,
      "outputs": []
    },
    {
      "cell_type": "markdown",
      "source": [
        "Calcular estadístico Chi²"
      ],
      "metadata": {
        "id": "iZhjsjPwLYac"
      }
    },
    {
      "cell_type": "code",
      "source": [
        "for i in range(num_clases):\n",
        "    estadistico_chi[i] = (frecuencia_observada[i] - frecuencia_esperada[i]) ** 2 / frecuencia_esperada[i]\n",
        "\n",
        "chi2_total = sum(estadistico_chi)\n",
        "valor_critico = chi2.ppf(1 - alpha, grados_libertad)"
      ],
      "metadata": {
        "id": "prR7cbyYLccj"
      },
      "execution_count": 25,
      "outputs": []
    },
    {
      "cell_type": "code",
      "source": [
        "# Cálculo del p-valor\n",
        "p_valor = chi2.sf(chi2_total, grados_libertad)"
      ],
      "metadata": {
        "id": "poT15XbqXJCs"
      },
      "execution_count": 35,
      "outputs": []
    },
    {
      "cell_type": "markdown",
      "source": [
        "Tabla de resultados"
      ],
      "metadata": {
        "id": "B8gxyTqBLg5E"
      }
    },
    {
      "cell_type": "code",
      "source": [
        "tabla_resultados = []\n",
        "for i in range(num_clases):\n",
        "    tabla_resultados.append([\n",
        "        f\"[{tabla_intervalos[i][0]:.2f}, {tabla_intervalos[i][1]:.2f})\",\n",
        "        frecuencia_esperada[i],\n",
        "        frecuencia_observada[i],\n",
        "        round(estadistico_chi[i], 4)\n",
        "    ])"
      ],
      "metadata": {
        "id": "9IbRktYbLkXH"
      },
      "execution_count": 26,
      "outputs": []
    },
    {
      "cell_type": "markdown",
      "source": [
        "Resultados finales"
      ],
      "metadata": {
        "id": "k9885BxyLsNh"
      }
    },
    {
      "cell_type": "code",
      "source": [
        "print(tabulate(tabla_resultados, headers=[\"Intervalo\", \"FE\", \"FO\", \"Chi²\"], tablefmt=\"grid\"))\n",
        "print(f\"\\nEstadístico Chi-cuadrado total: {chi2_total:.4f}\")\n",
        "print(f\"Valor crítico de Chi-cuadrado con α={alpha}: {valor_critico:.4f}\")\n",
        "print(f\"p-valor: {p_valor:.4f}\")"
      ],
      "metadata": {
        "colab": {
          "base_uri": "https://localhost:8080/"
        },
        "id": "da1tKGRkL2K9",
        "outputId": "4b72c9db-fa2c-41b2-9298-50c625be9f13"
      },
      "execution_count": 34,
      "outputs": [
        {
          "output_type": "stream",
          "name": "stdout",
          "text": [
            "+--------------+------+------+--------+\n",
            "| Intervalo    |   FE |   FO |   Chi² |\n",
            "+==============+======+======+========+\n",
            "| [0.00, 0.10) |   20 |   31 |   6.05 |\n",
            "+--------------+------+------+--------+\n",
            "| [0.10, 0.20) |   20 |   29 |   4.05 |\n",
            "+--------------+------+------+--------+\n",
            "| [0.20, 0.30) |   20 |   25 |   1.25 |\n",
            "+--------------+------+------+--------+\n",
            "| [0.30, 0.40) |   20 |   29 |   4.05 |\n",
            "+--------------+------+------+--------+\n",
            "| [0.40, 0.50) |   20 |   20 |   0    |\n",
            "+--------------+------+------+--------+\n",
            "| [0.50, 0.60) |   20 |   27 |   2.45 |\n",
            "+--------------+------+------+--------+\n",
            "| [0.60, 0.70) |   20 |   17 |   0.45 |\n",
            "+--------------+------+------+--------+\n",
            "| [0.70, 0.80) |   20 |   14 |   1.8  |\n",
            "+--------------+------+------+--------+\n",
            "| [0.80, 0.90) |   20 |    5 |  11.25 |\n",
            "+--------------+------+------+--------+\n",
            "| [0.90, 1.00) |   20 |    3 |  14.45 |\n",
            "+--------------+------+------+--------+\n",
            "\n",
            "Estadístico Chi-cuadrado total: 45.8000\n",
            "Valor crítico de Chi-cuadrado con α=0.05: 16.9190\n",
            "p-valor: 0.0000\n"
          ]
        }
      ]
    },
    {
      "cell_type": "markdown",
      "source": [
        "Decisión"
      ],
      "metadata": {
        "id": "VNE5Ig72L3kc"
      }
    },
    {
      "cell_type": "code",
      "source": [
        "if p_valor < alpha:\n",
        "    print(\"Se rechaza la hipótesis nula.\")\n",
        "else:\n",
        "    print(\"No se rechaza la hipótesis nula.\")"
      ],
      "metadata": {
        "colab": {
          "base_uri": "https://localhost:8080/"
        },
        "id": "RySSMonBMDH4",
        "outputId": "99eb379a-5ff0-4ea4-a107-414767845353"
      },
      "execution_count": 37,
      "outputs": [
        {
          "output_type": "stream",
          "name": "stdout",
          "text": [
            "Se rechaza la hipótesis nula.\n"
          ]
        }
      ]
    },
    {
      "cell_type": "markdown",
      "source": [
        "Mostrar media y desviación estándar"
      ],
      "metadata": {
        "id": "fti_L7E-MICd"
      }
    },
    {
      "cell_type": "code",
      "source": [
        "print(f\"\\nMedia muestral de los datos normalizados: {media:.4f}\")\n",
        "print(f\"Desviación estándar muestral: {desviacion:.4f}\")"
      ],
      "metadata": {
        "colab": {
          "base_uri": "https://localhost:8080/"
        },
        "id": "Ueoo7EYSMQ2j",
        "outputId": "641aa135-2136-4294-d644-2af435e88d65"
      },
      "execution_count": 13,
      "outputs": [
        {
          "output_type": "stream",
          "name": "stdout",
          "text": [
            "\n",
            "Media muestral de los datos normalizados: 0.3749\n",
            "Desviación estándar muestral: 0.2415\n"
          ]
        }
      ]
    }
  ]
}